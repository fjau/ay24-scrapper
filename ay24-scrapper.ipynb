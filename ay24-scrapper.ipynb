{
 "cells": [
  {
   "cell_type": "code",
   "execution_count": 1,
   "metadata": {},
   "outputs": [],
   "source": [
    "from bs4 import BeautifulSoup\n",
    "from urllib.request import urlopen"
   ]
  },
  {
   "cell_type": "code",
   "execution_count": 5,
   "metadata": {},
   "outputs": [
    {
     "name": "stdout",
     "output_type": "stream",
     "text": [
      "Valor mercado para compra: ar$ 30.28\n",
      "Valor mercado para venta: u$d 0.4\n",
      "Comprarías el dólar a: ar$ 75.47\n"
     ]
    }
   ],
   "source": [
    "# Extraigo valor de mercado de AY24 en pesos para compra\n",
    "url = \"https://www.rava.com/empresas/perfil.php?e=AY24\"\n",
    "client = urlopen(url)\n",
    "page_html = client.read()\n",
    "soup = BeautifulSoup(page_html, 'html.parser')\n",
    "result = soup.findAll(\"span\",{\"class\":\"fontsize6\"})\n",
    "valor_pesos = result[0].text.replace('.','')\n",
    "\n",
    "# Formateo el resultado para el precio por comprar 1 bono\n",
    "valor_pesos_curated = (float(valor_pesos.replace(',','.')) / 100)\n",
    "\n",
    "# Extraigo valor de mercado de AY24 en dólares para venta\n",
    "url = \"https://www.rava.com/empresas/perfil.php?e=AY24D\"\n",
    "client = urlopen(url)\n",
    "page_html = client.read()\n",
    "soup = BeautifulSoup(page_html, 'html.parser')\n",
    "result = soup.findAll(\"span\",{\"class\":\"fontsize6\"})\n",
    "valor_dolares = result[0].text.replace('.','')\n",
    "\n",
    "# Formateo el resultado para el precio por vender 1 bono\n",
    "valor_dolares_curated = (float(valor_dolares.replace(',','.')) / 100)\n",
    "\n",
    "# Muestro valores redondeados\n",
    "print(\"Valor mercado para compra: ar$ \" + str(round(valor_pesos_curated, 2)))\n",
    "print(\"Valor mercado para venta: u$d \" + str(round(valor_dolares_curated, 2)))\n",
    "\n",
    "# Calculo el valor al que comprarías el dólar con éste intercambio\n",
    "intercambio = (1 / valor_dolares_curated) * (valor_pesos_curated)\n",
    "print(\"Comprarías el dólar a: ar$ \"+ str(round(intercambio, 2)))\n"
   ]
  }
 ],
 "metadata": {
  "kernelspec": {
   "display_name": "Python 3",
   "language": "python",
   "name": "python3"
  },
  "language_info": {
   "codemirror_mode": {
    "name": "ipython",
    "version": 3
   },
   "file_extension": ".py",
   "mimetype": "text/x-python",
   "name": "python",
   "nbconvert_exporter": "python",
   "pygments_lexer": "ipython3",
   "version": "3.7.4"
  }
 },
 "nbformat": 4,
 "nbformat_minor": 2
}
